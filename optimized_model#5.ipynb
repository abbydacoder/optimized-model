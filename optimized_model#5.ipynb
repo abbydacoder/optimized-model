{
 "cells": [
  {
   "cell_type": "code",
   "execution_count": 1,
   "id": "0dff0732",
   "metadata": {},
   "outputs": [],
   "source": [
    "import tensorflow as tf\n",
    "import tensorflow.keras as keras\n",
    "import matplotlib.pyplot as plt"
   ]
  },
  {
   "cell_type": "code",
   "execution_count": 2,
   "id": "156e8201",
   "metadata": {},
   "outputs": [],
   "source": [
    "from tensorflow.keras import models, layers\n",
    "from keras.layers.core import Dense, Activation, Dropout, Flatten\n",
    "from keras.layers.convolutional import Convolution2D, MaxPooling2D"
   ]
  },
  {
   "cell_type": "code",
   "execution_count": 3,
   "id": "d55eded8",
   "metadata": {},
   "outputs": [],
   "source": [
    "IMAGE_SIZE = 256\n",
    "BATCH_SIZE = 30\n",
    "CHANNELS = 3\n",
    "EPOCHS = 30"
   ]
  },
  {
   "cell_type": "code",
   "execution_count": 4,
   "id": "54d13f33",
   "metadata": {},
   "outputs": [
    {
     "name": "stdout",
     "output_type": "stream",
     "text": [
      "Found 638 files belonging to 2 classes.\n"
     ]
    }
   ],
   "source": [
    "dataset = tf.keras.preprocessing.image_dataset_from_directory(\n",
    "    \"Taro Dataset\",\n",
    "    shuffle = True,\n",
    "    image_size = (IMAGE_SIZE, IMAGE_SIZE),\n",
    "    batch_size = (BATCH_SIZE))"
   ]
  },
  {
   "cell_type": "code",
   "execution_count": 5,
   "id": "d14e7e37",
   "metadata": {},
   "outputs": [
    {
     "data": {
      "text/plain": [
       "17.6"
      ]
     },
     "execution_count": 5,
     "metadata": {},
     "output_type": "execute_result"
    }
   ],
   "source": [
    "#training split\n",
    "train_size = 0.8\n",
    "len(dataset)*train_size"
   ]
  },
  {
   "cell_type": "code",
   "execution_count": 6,
   "id": "9c80601a",
   "metadata": {},
   "outputs": [
    {
     "data": {
      "text/plain": [
       "18"
      ]
     },
     "execution_count": 6,
     "metadata": {},
     "output_type": "execute_result"
    }
   ],
   "source": [
    "train_ds = dataset.take(18)\n",
    "len(train_ds)"
   ]
  },
  {
   "cell_type": "code",
   "execution_count": 7,
   "id": "48862fa0",
   "metadata": {},
   "outputs": [
    {
     "data": {
      "text/plain": [
       "4"
      ]
     },
     "execution_count": 7,
     "metadata": {},
     "output_type": "execute_result"
    }
   ],
   "source": [
    "#test split\n",
    "test_ds = dataset.skip(18)\n",
    "len(test_ds)"
   ]
  },
  {
   "cell_type": "code",
   "execution_count": 8,
   "id": "8dd3ebd9",
   "metadata": {},
   "outputs": [
    {
     "data": {
      "text/plain": [
       "2.2"
      ]
     },
     "execution_count": 8,
     "metadata": {},
     "output_type": "execute_result"
    }
   ],
   "source": [
    "#validation split 10%\n",
    "val_size = 0.1\n",
    "len(dataset)*val_size"
   ]
  },
  {
   "cell_type": "code",
   "execution_count": 9,
   "id": "081d4bfb",
   "metadata": {},
   "outputs": [
    {
     "data": {
      "text/plain": [
       "2"
      ]
     },
     "execution_count": 9,
     "metadata": {},
     "output_type": "execute_result"
    }
   ],
   "source": [
    "val_ds = test_ds.take(2)\n",
    "len(val_ds)"
   ]
  },
  {
   "cell_type": "code",
   "execution_count": 10,
   "id": "350715a7",
   "metadata": {},
   "outputs": [
    {
     "data": {
      "text/plain": [
       "2"
      ]
     },
     "execution_count": 10,
     "metadata": {},
     "output_type": "execute_result"
    }
   ],
   "source": [
    "test_ds = test_ds.skip(2)\n",
    "len(test_ds)"
   ]
  },
  {
   "cell_type": "code",
   "execution_count": 11,
   "id": "7056b3ac",
   "metadata": {},
   "outputs": [],
   "source": [
    "def get_dataset_partitions_tf(ds,train_split = 0.8, val_split = 0.1, test_split = 0.1, shuffle = True, shuffle_size = 1000):\n",
    "    \n",
    "    ds_size = len(ds)\n",
    "    \n",
    "    if shuffle:\n",
    "        ds = ds.shuffle(shuffle_size, seed = 12)\n",
    "    \n",
    "    train_size = int(train_split * ds_size)\n",
    "    val_size = int(val_split * ds_size)\n",
    "   \n",
    "    train_ds = ds.take(train_size)\n",
    "    val_ds = ds.skip(train_size).take(val_size)\n",
    "    test_ds = ds.skip(train_size).skip(val_size)\n",
    "    \n",
    "    return train_ds, val_ds, test_ds"
   ]
  },
  {
   "cell_type": "code",
   "execution_count": 12,
   "id": "2522116e",
   "metadata": {},
   "outputs": [],
   "source": [
    "train_ds, val_ds, test_ds = get_dataset_partitions_tf(dataset)"
   ]
  },
  {
   "cell_type": "code",
   "execution_count": 13,
   "id": "cb75c436",
   "metadata": {},
   "outputs": [],
   "source": [
    "train_ds = train_ds.cache().shuffle(1000).prefetch(buffer_size = tf.data.AUTOTUNE)\n",
    "val_ds = val_ds.cache().shuffle(1000).prefetch(buffer_size = tf.data.AUTOTUNE)\n",
    "test_ds = test_ds.cache().shuffle(1000).prefetch(buffer_size = tf.data.AUTOTUNE)"
   ]
  },
  {
   "cell_type": "code",
   "execution_count": 14,
   "id": "5495968b",
   "metadata": {},
   "outputs": [],
   "source": [
    "resize_and_rescale = tf.keras.Sequential([\n",
    "    layers.experimental.preprocessing.Resizing(IMAGE_SIZE, IMAGE_SIZE),\n",
    "    layers.experimental.preprocessing.Rescaling(1.0/255)\n",
    "])"
   ]
  },
  {
   "cell_type": "code",
   "execution_count": 15,
   "id": "120b184f",
   "metadata": {},
   "outputs": [],
   "source": [
    "data_augmentation = tf.keras.Sequential ([\n",
    "    layers.experimental.preprocessing.RandomFlip(\"horizontal_and_vertical\"),\n",
    "    layers.experimental.preprocessing.RandomRotation(0.2),\n",
    "])"
   ]
  },
  {
   "cell_type": "code",
   "execution_count": 16,
   "id": "a646936a",
   "metadata": {},
   "outputs": [],
   "source": [
    "input_shape = (IMAGE_SIZE, IMAGE_SIZE, CHANNELS)\n",
    "\n",
    "model = keras.Sequential([\n",
    "   \n",
    "    #first cnn layer\n",
    "    keras.layers.Conv2D(32, (3,3), activation = 'relu', input_shape = (input_shape)),\n",
    "    keras.layers.MaxPooling2D((2,2)),\n",
    "    \n",
    "    #second cnn layer\n",
    "    keras.layers.Conv2D(64, kernel_size = (3,3), activation = 'relu'),\n",
    "    keras.layers.MaxPooling2D((2,2)),\n",
    "    \n",
    "    #third cnn layer\n",
    "    keras.layers.Conv2D(64, kernel_size = (3,3), activation = 'relu'),\n",
    "    keras.layers.MaxPooling2D((2,2)),\n",
    "    \n",
    "    #fully connected layer\n",
    "    keras.layers.Flatten(),\n",
    "    keras.layers.Dense(64, activation = \"relu\" ),\n",
    "    keras.layers.Dense(64, activation = \"softmax\"),\n",
    "])\n",
    "\n",
    "model.build(input_shape = input_shape)"
   ]
  },
  {
   "cell_type": "code",
   "execution_count": 17,
   "id": "48895307",
   "metadata": {},
   "outputs": [
    {
     "name": "stdout",
     "output_type": "stream",
     "text": [
      "Model: \"sequential_2\"\n",
      "_________________________________________________________________\n",
      " Layer (type)                Output Shape              Param #   \n",
      "=================================================================\n",
      " conv2d (Conv2D)             (None, 254, 254, 32)      896       \n",
      "                                                                 \n",
      " max_pooling2d (MaxPooling2D  (None, 127, 127, 32)     0         \n",
      " )                                                               \n",
      "                                                                 \n",
      " conv2d_1 (Conv2D)           (None, 125, 125, 64)      18496     \n",
      "                                                                 \n",
      " max_pooling2d_1 (MaxPooling  (None, 62, 62, 64)       0         \n",
      " 2D)                                                             \n",
      "                                                                 \n",
      " conv2d_2 (Conv2D)           (None, 60, 60, 64)        36928     \n",
      "                                                                 \n",
      " max_pooling2d_2 (MaxPooling  (None, 30, 30, 64)       0         \n",
      " 2D)                                                             \n",
      "                                                                 \n",
      " flatten (Flatten)           (None, 57600)             0         \n",
      "                                                                 \n",
      " dense (Dense)               (None, 64)                3686464   \n",
      "                                                                 \n",
      " dense_1 (Dense)             (None, 64)                4160      \n",
      "                                                                 \n",
      "=================================================================\n",
      "Total params: 3,746,944\n",
      "Trainable params: 3,746,944\n",
      "Non-trainable params: 0\n",
      "_________________________________________________________________\n"
     ]
    }
   ],
   "source": [
    "model.summary()"
   ]
  },
  {
   "cell_type": "code",
   "execution_count": 18,
   "id": "134f0d0f",
   "metadata": {},
   "outputs": [],
   "source": [
    "model.compile(\n",
    "            optimizer = 'adam',\n",
    "            loss = tf.keras.losses.SparseCategoricalCrossentropy(from_logits = True),\n",
    "            metrics = ['accuracy']\n",
    "            \n",
    ") "
   ]
  },
  {
   "cell_type": "code",
   "execution_count": 19,
   "id": "acd0d08c",
   "metadata": {},
   "outputs": [
    {
     "name": "stdout",
     "output_type": "stream",
     "text": [
      "Epoch 1/30\n"
     ]
    },
    {
     "name": "stderr",
     "output_type": "stream",
     "text": [
      "C:\\Users\\Acer\\anaconda3\\lib\\site-packages\\keras\\backend.py:5582: UserWarning: \"`sparse_categorical_crossentropy` received `from_logits=True`, but the `output` argument was produced by a Softmax activation and thus does not represent logits. Was this intended?\n",
      "  output, from_logits = _get_logits(\n"
     ]
    },
    {
     "name": "stdout",
     "output_type": "stream",
     "text": [
      "17/17 [==============================] - 80s 3s/step - loss: 26.8679 - accuracy: 0.5307 - val_loss: 0.6094 - val_accuracy: 0.7667\n",
      "Epoch 2/30\n",
      "17/17 [==============================] - 37s 2s/step - loss: 0.5490 - accuracy: 0.8033 - val_loss: 0.5491 - val_accuracy: 0.7667\n",
      "Epoch 3/30\n",
      "17/17 [==============================] - 36s 2s/step - loss: 0.3637 - accuracy: 0.8504 - val_loss: 0.2987 - val_accuracy: 0.9000\n",
      "Epoch 4/30\n",
      "17/17 [==============================] - 36s 2s/step - loss: 0.1973 - accuracy: 0.9160 - val_loss: 0.2739 - val_accuracy: 0.8833\n",
      "Epoch 5/30\n",
      "17/17 [==============================] - 36s 2s/step - loss: 0.1457 - accuracy: 0.9488 - val_loss: 0.1856 - val_accuracy: 0.9500\n",
      "Epoch 6/30\n",
      "17/17 [==============================] - 36s 2s/step - loss: 0.0822 - accuracy: 0.9836 - val_loss: 0.2061 - val_accuracy: 0.9500\n",
      "Epoch 7/30\n",
      "17/17 [==============================] - 35s 2s/step - loss: 0.0726 - accuracy: 0.9816 - val_loss: 0.2242 - val_accuracy: 0.8833\n",
      "Epoch 8/30\n",
      "17/17 [==============================] - 36s 2s/step - loss: 0.1171 - accuracy: 0.9713 - val_loss: 0.1782 - val_accuracy: 0.9500\n",
      "Epoch 9/30\n",
      "17/17 [==============================] - 36s 2s/step - loss: 0.0411 - accuracy: 0.9939 - val_loss: 0.1329 - val_accuracy: 0.9333\n",
      "Epoch 10/30\n",
      "17/17 [==============================] - 38s 2s/step - loss: 0.0817 - accuracy: 0.9611 - val_loss: 0.1361 - val_accuracy: 0.9500\n",
      "Epoch 11/30\n",
      "17/17 [==============================] - 36s 2s/step - loss: 0.0388 - accuracy: 0.9877 - val_loss: 0.3053 - val_accuracy: 0.9500\n",
      "Epoch 12/30\n",
      "17/17 [==============================] - 37s 2s/step - loss: 0.0233 - accuracy: 0.9939 - val_loss: 0.4397 - val_accuracy: 0.9333\n",
      "Epoch 13/30\n",
      "17/17 [==============================] - 37s 2s/step - loss: 0.0119 - accuracy: 0.9939 - val_loss: 0.2689 - val_accuracy: 0.9333\n",
      "Epoch 14/30\n",
      "17/17 [==============================] - 36s 2s/step - loss: 0.0032 - accuracy: 1.0000 - val_loss: 0.2779 - val_accuracy: 0.9333\n",
      "Epoch 15/30\n",
      "17/17 [==============================] - 37s 2s/step - loss: 0.0022 - accuracy: 1.0000 - val_loss: 0.3621 - val_accuracy: 0.9333\n",
      "Epoch 16/30\n",
      "17/17 [==============================] - 37s 2s/step - loss: 9.7237e-04 - accuracy: 1.0000 - val_loss: 0.4058 - val_accuracy: 0.9333\n",
      "Epoch 17/30\n",
      "17/17 [==============================] - 36s 2s/step - loss: 2.7689e-04 - accuracy: 1.0000 - val_loss: 0.4408 - val_accuracy: 0.9333\n",
      "Epoch 18/30\n",
      "17/17 [==============================] - 36s 2s/step - loss: 2.0424e-04 - accuracy: 1.0000 - val_loss: 0.4545 - val_accuracy: 0.9333\n",
      "Epoch 19/30\n",
      "17/17 [==============================] - 37s 2s/step - loss: 1.4701e-04 - accuracy: 1.0000 - val_loss: 0.4597 - val_accuracy: 0.9333\n",
      "Epoch 20/30\n",
      "17/17 [==============================] - 303s 19s/step - loss: 1.2002e-04 - accuracy: 1.0000 - val_loss: 0.4652 - val_accuracy: 0.9333\n",
      "Epoch 21/30\n",
      "17/17 [==============================] - 29s 2s/step - loss: 1.0127e-04 - accuracy: 1.0000 - val_loss: 0.4705 - val_accuracy: 0.9333\n",
      "Epoch 22/30\n",
      "17/17 [==============================] - 28s 2s/step - loss: 8.8835e-05 - accuracy: 1.0000 - val_loss: 0.4797 - val_accuracy: 0.9333\n",
      "Epoch 23/30\n",
      "17/17 [==============================] - 32s 2s/step - loss: 7.8404e-05 - accuracy: 1.0000 - val_loss: 0.4867 - val_accuracy: 0.9333\n",
      "Epoch 24/30\n",
      "17/17 [==============================] - 34s 2s/step - loss: 7.0069e-05 - accuracy: 1.0000 - val_loss: 0.4946 - val_accuracy: 0.9333\n",
      "Epoch 25/30\n",
      "17/17 [==============================] - 34s 2s/step - loss: 6.2759e-05 - accuracy: 1.0000 - val_loss: 0.4986 - val_accuracy: 0.9333\n",
      "Epoch 26/30\n",
      "17/17 [==============================] - 36s 2s/step - loss: 5.7046e-05 - accuracy: 1.0000 - val_loss: 0.5059 - val_accuracy: 0.9333\n",
      "Epoch 27/30\n",
      "17/17 [==============================] - 33s 2s/step - loss: 5.1678e-05 - accuracy: 1.0000 - val_loss: 0.5115 - val_accuracy: 0.9333\n",
      "Epoch 28/30\n",
      "17/17 [==============================] - 34s 2s/step - loss: 4.7321e-05 - accuracy: 1.0000 - val_loss: 0.5193 - val_accuracy: 0.9333\n",
      "Epoch 29/30\n",
      "17/17 [==============================] - 39s 2s/step - loss: 4.3461e-05 - accuracy: 1.0000 - val_loss: 0.5255 - val_accuracy: 0.9333\n",
      "Epoch 30/30\n",
      "17/17 [==============================] - 45s 3s/step - loss: 4.0027e-05 - accuracy: 1.0000 - val_loss: 0.5307 - val_accuracy: 0.9333\n"
     ]
    }
   ],
   "source": [
    "history = model.fit(\n",
    "    train_ds,\n",
    "    epochs = EPOCHS,\n",
    "    batch_size = BATCH_SIZE,\n",
    "    verbose = 1,\n",
    "    validation_data = val_ds\n",
    ")"
   ]
  },
  {
   "cell_type": "code",
   "execution_count": 20,
   "id": "687afb1d",
   "metadata": {},
   "outputs": [
    {
     "name": "stdout",
     "output_type": "stream",
     "text": [
      "3/3 [==============================] - 20s 465ms/step - loss: 0.4631 - accuracy: 0.9667\n"
     ]
    }
   ],
   "source": [
    "scores = model.evaluate(test_ds)"
   ]
  },
  {
   "cell_type": "code",
   "execution_count": 21,
   "id": "57f7b3fa",
   "metadata": {},
   "outputs": [
    {
     "data": {
      "text/plain": [
       "[0.4630831778049469, 0.9666666388511658]"
      ]
     },
     "execution_count": 21,
     "metadata": {},
     "output_type": "execute_result"
    }
   ],
   "source": [
    "scores"
   ]
  },
  {
   "cell_type": "code",
   "execution_count": 22,
   "id": "a2a0faea",
   "metadata": {},
   "outputs": [
    {
     "data": {
      "text/plain": [
       "<keras.callbacks.History at 0x1e574d6ad60>"
      ]
     },
     "execution_count": 22,
     "metadata": {},
     "output_type": "execute_result"
    }
   ],
   "source": [
    "history"
   ]
  },
  {
   "cell_type": "code",
   "execution_count": 23,
   "id": "0378ef0f",
   "metadata": {},
   "outputs": [
    {
     "data": {
      "text/plain": [
       "{'verbose': 1, 'epochs': 30, 'steps': 17}"
      ]
     },
     "execution_count": 23,
     "metadata": {},
     "output_type": "execute_result"
    }
   ],
   "source": [
    "history.params"
   ]
  },
  {
   "cell_type": "code",
   "execution_count": 24,
   "id": "4d8cf8ba",
   "metadata": {},
   "outputs": [
    {
     "data": {
      "text/plain": [
       "dict_keys(['loss', 'accuracy', 'val_loss', 'val_accuracy'])"
      ]
     },
     "execution_count": 24,
     "metadata": {},
     "output_type": "execute_result"
    }
   ],
   "source": [
    "history.history.keys()"
   ]
  },
  {
   "cell_type": "code",
   "execution_count": 25,
   "id": "cee64803",
   "metadata": {},
   "outputs": [],
   "source": [
    "acc = history.history['accuracy']\n",
    "val_acc = history.history['val_accuracy']\n",
    "\n",
    "loss = history.history['loss']\n",
    "val_loss = history.history['val_loss']"
   ]
  },
  {
   "cell_type": "code",
   "execution_count": 26,
   "id": "ea24f3fa",
   "metadata": {},
   "outputs": [
    {
     "data": {
      "image/png": "[encoded data removed]",
      "text/plain": [
       "<Figure size 576x576 with 2 Axes>"
      ]
     },
     "metadata": {
      "needs_background": "light"
     },
     "output_type": "display_data"
    }
   ],
   "source": [
    "plt.figure(figsize=(8,8))\n",
    "plt.subplot(1, 2, 1)\n",
    "plt.plot(range(EPOCHS), acc, label = 'Training Accuracy')\n",
    "plt.plot(range(EPOCHS), val_acc, label = 'Validation Accuracy')\n",
    "plt.legend(loc='lower right')\n",
    "plt.title('Training and Validation Accuracy')\n",
    "\n",
    "plt.subplot(1, 2, 2)\n",
    "plt.plot(range(EPOCHS), loss, label = 'Training Loss')\n",
    "plt.plot(range(EPOCHS), val_loss, label = 'Validation Loss')\n",
    "plt.legend(loc='upper right')\n",
    "plt.title('Training and Validation Loss')\n",
    "plt.show()"
   ]
  },
  {
   "cell_type": "code",
   "execution_count": null,
   "id": "be52755a",
   "metadata": {},
   "outputs": [],
   "source": []
  }
 ],
 "metadata": {
  "kernelspec": {
   "display_name": "Python 3 (ipykernel)",
   "language": "python",
   "name": "python3"
  },
  "language_info": {
   "codemirror_mode": {
    "name": "ipython",
    "version": 3
   },
   "file_extension": ".py",
   "mimetype": "text/x-python",
   "name": "python",
   "nbconvert_exporter": "python",
   "pygments_lexer": "ipython3",
   "version": "3.9.12"
  }
 },
 "nbformat": 4,
 "nbformat_minor": 5
}
